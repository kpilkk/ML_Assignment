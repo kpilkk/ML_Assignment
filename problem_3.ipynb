{
 "cells": [
  {
   "cell_type": "markdown",
   "metadata": {},
   "source": [
    "## Solutions to problem_3 of Assignment_1\n",
    "<b>Importing of necessary libraries.</b>"
   ]
  },
  {
   "cell_type": "code",
   "execution_count": 1,
   "metadata": {},
   "outputs": [],
   "source": [
    "import pandas as pd\n",
    "import numpy as np\n",
    "# Display first 10 rows\n",
    "pd.set_option('display.max_rows', 10)\n",
    "# libraries for plotting\n",
    "import matplotlib.pyplot as plt\n",
    "# for the graph to be plotted on Notebook\n",
    "%matplotlib inline\n",
    "from sklearn.metrics import mean_squared_error\n",
    "from sklearn.metrics import mean_absolute_error"
   ]
  },
  {
   "cell_type": "markdown",
   "metadata": {},
   "source": [
    "Reading wage dataset and dividing it into `train` and `test` dataset i.e. first 2400 in train and the rest 600 in test. <br>\n",
    "Here, wage_dataset is a Dataframe and its rows are accessed by `pd.Dataframe.iloc()`.<br> \n",
    "Here, `header = None` is used because in our dataset column names were not given, so default numbering is done."
   ]
  },
  {
   "cell_type": "code",
   "execution_count": 2,
   "metadata": {},
   "outputs": [
    {
     "data": {
      "text/html": [
       "<div>\n",
       "<style>\n",
       "    .dataframe thead tr:only-child th {\n",
       "        text-align: right;\n",
       "    }\n",
       "\n",
       "    .dataframe thead th {\n",
       "        text-align: left;\n",
       "    }\n",
       "\n",
       "    .dataframe tbody tr th {\n",
       "        vertical-align: top;\n",
       "    }\n",
       "</style>\n",
       "<table border=\"1\" class=\"dataframe\">\n",
       "  <thead>\n",
       "    <tr style=\"text-align: right;\">\n",
       "      <th></th>\n",
       "      <th>0</th>\n",
       "      <th>1</th>\n",
       "      <th>2</th>\n",
       "      <th>3</th>\n",
       "      <th>4</th>\n",
       "      <th>5</th>\n",
       "      <th>6</th>\n",
       "      <th>7</th>\n",
       "      <th>8</th>\n",
       "      <th>9</th>\n",
       "      <th>10</th>\n",
       "    </tr>\n",
       "  </thead>\n",
       "  <tbody>\n",
       "    <tr>\n",
       "      <th>2400</th>\n",
       "      <td>2008</td>\n",
       "      <td>40</td>\n",
       "      <td>2</td>\n",
       "      <td>1</td>\n",
       "      <td>2</td>\n",
       "      <td>2</td>\n",
       "      <td>2</td>\n",
       "      <td>2</td>\n",
       "      <td>1</td>\n",
       "      <td>4.505150</td>\n",
       "      <td>90.481913</td>\n",
       "    </tr>\n",
       "    <tr>\n",
       "      <th>2401</th>\n",
       "      <td>2006</td>\n",
       "      <td>56</td>\n",
       "      <td>2</td>\n",
       "      <td>1</td>\n",
       "      <td>5</td>\n",
       "      <td>2</td>\n",
       "      <td>2</td>\n",
       "      <td>2</td>\n",
       "      <td>1</td>\n",
       "      <td>4.763428</td>\n",
       "      <td>117.146817</td>\n",
       "    </tr>\n",
       "    <tr>\n",
       "      <th>2402</th>\n",
       "      <td>2009</td>\n",
       "      <td>50</td>\n",
       "      <td>2</td>\n",
       "      <td>1</td>\n",
       "      <td>2</td>\n",
       "      <td>2</td>\n",
       "      <td>1</td>\n",
       "      <td>2</td>\n",
       "      <td>1</td>\n",
       "      <td>4.602060</td>\n",
       "      <td>99.689464</td>\n",
       "    </tr>\n",
       "    <tr>\n",
       "      <th>2403</th>\n",
       "      <td>2009</td>\n",
       "      <td>49</td>\n",
       "      <td>2</td>\n",
       "      <td>1</td>\n",
       "      <td>2</td>\n",
       "      <td>2</td>\n",
       "      <td>1</td>\n",
       "      <td>2</td>\n",
       "      <td>1</td>\n",
       "      <td>5.113943</td>\n",
       "      <td>166.324941</td>\n",
       "    </tr>\n",
       "    <tr>\n",
       "      <th>2404</th>\n",
       "      <td>2007</td>\n",
       "      <td>32</td>\n",
       "      <td>2</td>\n",
       "      <td>1</td>\n",
       "      <td>1</td>\n",
       "      <td>2</td>\n",
       "      <td>2</td>\n",
       "      <td>2</td>\n",
       "      <td>2</td>\n",
       "      <td>4.397940</td>\n",
       "      <td>81.283253</td>\n",
       "    </tr>\n",
       "    <tr>\n",
       "      <th>...</th>\n",
       "      <td>...</td>\n",
       "      <td>...</td>\n",
       "      <td>...</td>\n",
       "      <td>...</td>\n",
       "      <td>...</td>\n",
       "      <td>...</td>\n",
       "      <td>...</td>\n",
       "      <td>...</td>\n",
       "      <td>...</td>\n",
       "      <td>...</td>\n",
       "      <td>...</td>\n",
       "    </tr>\n",
       "    <tr>\n",
       "      <th>2995</th>\n",
       "      <td>2008</td>\n",
       "      <td>44</td>\n",
       "      <td>2</td>\n",
       "      <td>1</td>\n",
       "      <td>3</td>\n",
       "      <td>2</td>\n",
       "      <td>1</td>\n",
       "      <td>2</td>\n",
       "      <td>1</td>\n",
       "      <td>5.041393</td>\n",
       "      <td>154.685293</td>\n",
       "    </tr>\n",
       "    <tr>\n",
       "      <th>2996</th>\n",
       "      <td>2007</td>\n",
       "      <td>30</td>\n",
       "      <td>2</td>\n",
       "      <td>1</td>\n",
       "      <td>2</td>\n",
       "      <td>2</td>\n",
       "      <td>1</td>\n",
       "      <td>2</td>\n",
       "      <td>2</td>\n",
       "      <td>4.602060</td>\n",
       "      <td>99.689464</td>\n",
       "    </tr>\n",
       "    <tr>\n",
       "      <th>2997</th>\n",
       "      <td>2005</td>\n",
       "      <td>27</td>\n",
       "      <td>2</td>\n",
       "      <td>2</td>\n",
       "      <td>1</td>\n",
       "      <td>2</td>\n",
       "      <td>1</td>\n",
       "      <td>1</td>\n",
       "      <td>2</td>\n",
       "      <td>4.193125</td>\n",
       "      <td>66.229408</td>\n",
       "    </tr>\n",
       "    <tr>\n",
       "      <th>2998</th>\n",
       "      <td>2005</td>\n",
       "      <td>27</td>\n",
       "      <td>1</td>\n",
       "      <td>1</td>\n",
       "      <td>3</td>\n",
       "      <td>2</td>\n",
       "      <td>1</td>\n",
       "      <td>2</td>\n",
       "      <td>1</td>\n",
       "      <td>4.477121</td>\n",
       "      <td>87.981033</td>\n",
       "    </tr>\n",
       "    <tr>\n",
       "      <th>2999</th>\n",
       "      <td>2009</td>\n",
       "      <td>55</td>\n",
       "      <td>5</td>\n",
       "      <td>1</td>\n",
       "      <td>2</td>\n",
       "      <td>2</td>\n",
       "      <td>1</td>\n",
       "      <td>1</td>\n",
       "      <td>1</td>\n",
       "      <td>4.505150</td>\n",
       "      <td>90.481913</td>\n",
       "    </tr>\n",
       "  </tbody>\n",
       "</table>\n",
       "<p>600 rows × 11 columns</p>\n",
       "</div>"
      ],
      "text/plain": [
       "        0   1   2   3   4   5   6   7   8         9           10\n",
       "2400  2008  40   2   1   2   2   2   2   1  4.505150   90.481913\n",
       "2401  2006  56   2   1   5   2   2   2   1  4.763428  117.146817\n",
       "2402  2009  50   2   1   2   2   1   2   1  4.602060   99.689464\n",
       "2403  2009  49   2   1   2   2   1   2   1  5.113943  166.324941\n",
       "2404  2007  32   2   1   1   2   2   2   2  4.397940   81.283253\n",
       "...    ...  ..  ..  ..  ..  ..  ..  ..  ..       ...         ...\n",
       "2995  2008  44   2   1   3   2   1   2   1  5.041393  154.685293\n",
       "2996  2007  30   2   1   2   2   1   2   2  4.602060   99.689464\n",
       "2997  2005  27   2   2   1   2   1   1   2  4.193125   66.229408\n",
       "2998  2005  27   1   1   3   2   1   2   1  4.477121   87.981033\n",
       "2999  2009  55   5   1   2   2   1   1   1  4.505150   90.481913\n",
       "\n",
       "[600 rows x 11 columns]"
      ]
     },
     "execution_count": 2,
     "metadata": {},
     "output_type": "execute_result"
    }
   ],
   "source": [
    "wage_dataset = pd.read_csv('P3_data/Wage_dataset.csv', header=None)\n",
    "train = wage_dataset.iloc[0:2400]\n",
    "test = wage_dataset.iloc[2400:3000]\n",
    "test"
   ]
  },
  {
   "attachments": {
    "Screenshot%20from%202018-04-08%2014-11-10.png": {
     "image/png": "[encoded data removed]"
    }
   },
   "cell_type": "markdown",
   "metadata": {},
   "source": [
    "A function which calculates X matrix.\n",
    "![Screenshot%20from%202018-04-08%2014-11-10.png](attachment:Screenshot%20from%202018-04-08%2014-11-10.png)\n",
    "In teh function given below x is [x1,x2,x3....xN] <br>\n",
    "And this function returns the matrix X given in above equation with d the order of the polynomial."
   ]
  },
  {
   "cell_type": "code",
   "execution_count": 3,
   "metadata": {},
   "outputs": [],
   "source": [
    "def D(x,d):\n",
    "    D1=[]\n",
    "    for i in range(len(x)):\n",
    "        a=[]\n",
    "        for j in range(d):\n",
    "            a.append(x[i]**j)\n",
    "        D1.append(a)\n",
    "    return D1"
   ]
  },
  {
   "cell_type": "markdown",
   "metadata": {},
   "source": [
    "A function which calculates w matrix."
   ]
  },
  {
   "cell_type": "code",
   "execution_count": 4,
   "metadata": {},
   "outputs": [],
   "source": [
    "def poly_regression(X,r):\n",
    "    w = np.linalg.inv(np.transpose(X)*X)*np.transpose(X)*r\n",
    "    return w"
   ]
  },
  {
   "cell_type": "markdown",
   "metadata": {},
   "source": [
    "## Age vs Wage\n",
    "Storing wage in wage. Wage is 11th column."
   ]
  },
  {
   "cell_type": "code",
   "execution_count": 5,
   "metadata": {},
   "outputs": [],
   "source": [
    "wage = train[10]\n",
    "wage = np.matrix(wage)"
   ]
  },
  {
   "cell_type": "markdown",
   "metadata": {},
   "source": [
    "Age is a Series. So, It is converted to list and matrix to make the calculation easier."
   ]
  },
  {
   "cell_type": "code",
   "execution_count": 6,
   "metadata": {},
   "outputs": [
    {
     "name": "stdout",
     "output_type": "stream",
     "text": [
      "1657.20451769\n",
      "28.4094568848\n"
     ]
    }
   ],
   "source": [
    "Age = train[1]\n",
    "# converting series to  a list and then to a matrix to make the calculation simpler\n",
    "Age = pd.Series.tolist(Age)\n",
    "r = np.matrix(Age)\n",
    "D_matrix = np.matrix(D(Age,5))\n",
    "\n",
    "w_train = poly_regression(D_matrix, np.transpose(wage))\n",
    "w_train\n",
    "\n",
    "Age_test = test[1]\n",
    "Age_test = pd.Series.tolist(Age_test)\n",
    "r_test = np.matrix(Age_test)\n",
    "D_matrix_test = np.matrix(D(Age_test,5))\n",
    "# Now, predicting the value of test by multiplying the calculated value of w_train and D_matrix_test.\n",
    "predicted = D_matrix_test*w_train\n",
    "original = pd.Series.tolist(test[10])\n",
    "print(mean_squared_error(predicted,original))\n",
    "print(mean_absolute_error(predicted,original))"
   ]
  },
  {
   "cell_type": "markdown",
   "metadata": {},
   "source": [
    "Mean Square Error @ `d = 2` is 1720.87 <br>Mean Square Error @ `d = 3` is 1664.64 <br> Mean Square Error @ `d = 4` is 1661.94 <br>  Mean Square Error @ `d = 5` is 1657.20451769 <br> Mean Square Error @ `d = 6` is 1657.2045199 <br> Mean Square Error @ `d = 7` is 1661.94748495 <br> Mean Square Error @ `d = 8` is 1664.8009733319591"
   ]
  },
  {
   "cell_type": "markdown",
   "metadata": {},
   "source": [
    "Mean Absolute Error @ `d = 2` is 30.5749983932 <br>Mean Absolute Error @ `d = 3` is 30.5749983932 <br> Mean Absolute Error @ `d = 4` is 30.5749983932 <br>  Mean Absolute Error @ `d = 5` is 30.5749983932 <br> Mean Absolute Error @ `d = 6` is 30.5749983932 <br> Mean Absolute Error @ `d = 7` is 30.5749983932 <br> Mean Absolute Error @ `d = 8` is 30.5749983932"
   ]
  },
  {
   "cell_type": "markdown",
   "metadata": {},
   "source": [
    "As we can see `d = 5` is the optimal choice for the error to be minimum."
   ]
  },
  {
   "cell_type": "markdown",
   "metadata": {},
   "source": [
    "## Year vs Wage\n",
    "Year is the first column of the csv file."
   ]
  },
  {
   "cell_type": "code",
   "execution_count": 7,
   "metadata": {},
   "outputs": [
    {
     "name": "stdout",
     "output_type": "stream",
     "text": [
      "1.59917220908e+19\n",
      "3998911341.14\n"
     ]
    }
   ],
   "source": [
    "Year = train[0]\n",
    "Year = pd.Series.tolist(Year)\n",
    "Year_matrix = np.matrix(Year)\n",
    "D_matrix_year = np.matrix(D(Year,6))\n",
    "w_train_year = poly_regression(D_matrix_year, np.transpose(wage))\n",
    "Year_test = test[0]\n",
    "Year_test = pd.Series.tolist(Year_test)\n",
    "Year_test_matrix = np.matrix(Year_test)\n",
    "D_matrix_test = np.matrix(D(Year_test,6))\n",
    "predicted_year = D_matrix_test*w_train_year\n",
    "print(mean_squared_error(predicted_year,original))\n",
    "print(mean_absolute_error(predicted_year,original))"
   ]
  },
  {
   "cell_type": "markdown",
   "metadata": {},
   "source": [
    "Mean Square Error @ d = 2 is 1807.26959391 <br>\n",
    "Mean Square Error @ d = 3 is 1806.09397983 <br> \n",
    "Mean Square Error @ d = 4 is 1807.26959391 <br>  \n",
    "Mean Square Error @ d = 5 is 1811.17887972 <br> \n",
    "Mean Square Error @ d = 6 is 1.59e+19 <br> "
   ]
  },
  {
   "cell_type": "markdown",
   "metadata": {},
   "source": [
    "Mean Absolute Error @ `d = 2` is 30.5916817993 <br>Mean Absolute Error @ `d = 3` is 30.5749983932 <br> Mean Absolute Error @ `d = 4` is 30.591681799 <br>  Mean Absolute Error @ `d = 5` is 30.5605886982 <br> Mean Absolute Error @ `d = 6` is 3998911341.14"
   ]
  },
  {
   "cell_type": "markdown",
   "metadata": {},
   "source": [
    "As we can see `d = 3` is the optimal choice for the error to be minimum."
   ]
  },
  {
   "cell_type": "markdown",
   "metadata": {},
   "source": [
    "## Education vs Wage"
   ]
  },
  {
   "cell_type": "code",
   "execution_count": 8,
   "metadata": {},
   "outputs": [
    {
     "name": "stdout",
     "output_type": "stream",
     "text": [
      "56098363.4193\n",
      "5158.06464042\n"
     ]
    }
   ],
   "source": [
    "Education = train[4]\n",
    "Education = pd.Series.tolist(Education)\n",
    "Education_matrix = np.matrix(Education)\n",
    "D_matrix_education = np.matrix(D(Education,7))\n",
    "w_train_education = poly_regression(D_matrix_education, np.transpose(wage))\n",
    "Education_test = test[4]\n",
    "Education_test = pd.Series.tolist(Education_test)\n",
    "Education_test_matrix = np.matrix(Education_test)\n",
    "D_matrix_education = np.matrix(D(Education_test,7))\n",
    "predicted_education = D_matrix_education*w_train_education\n",
    "print(mean_squared_error(predicted_education,original))\n",
    "print(mean_absolute_error(predicted_education,original))"
   ]
  },
  {
   "cell_type": "markdown",
   "metadata": {},
   "source": [
    "Mean Square Error @ `d = 2` is 1366.31487249 <br>Mean Square Error @ `d = 3` is 1361.76838591 <br> Mean Square Error @ `d = 4` is 1358.84930954 <br>  Mean Square Error @ `d = 5` is 1361.44143778 <br> Mean Square Error @ `d = 6` is 11373249442.5 <br> Mean Square Error @ `d = 7` is 56098363.4193"
   ]
  },
  {
   "cell_type": "markdown",
   "metadata": {},
   "source": [
    "Mean Absolute Error @ `d = 2` is 25.3281922697 <br>Mean Absolute Error @ `d = 3` is 25.4857051691 <br> Mean Absolute Error @ `d = 4` is 25.4941034128 <br>  Mean Absolute Error @ `d = 5` is 25.5059222448 <br> Mean Absolute Error @ `d = 6` is 85678.9569497 <br> Mean Absolute Error @ `d = 7` is 5158.06464042"
   ]
  },
  {
   "cell_type": "markdown",
   "metadata": {},
   "source": [
    "As we can see `d = 4` is the optimal choice for the error to be minimum."
   ]
  },
  {
   "cell_type": "markdown",
   "metadata": {},
   "source": [
    "   After observing above calculations for mean_square_error and mean_absolute_error for `agevswage` and `yearvswage` for different values of `d`, `d=5` is optimal value for <b> AgevsWage </b> , `d=3` is optimal value for <b> YearvsWage </b> `d=4` is optimal value for <b> EducationvsWage </b><br>\n",
    "   We can predict accurate prediction of a particular man's wage from one of these 3 attributes alone as <b> Mean_Absolute_Error </b> is around 30 in the first two cases and around 25 in the last case. <br>\n",
    "   And <b>Education v/s wage</b> will be the best choice for prediction as its MSE and MAE is less as compared to other two."
   ]
  },
  {
   "cell_type": "markdown",
   "metadata": {},
   "source": [
    "### Plotting of education vs wage"
   ]
  },
  {
   "cell_type": "code",
   "execution_count": 9,
   "metadata": {},
   "outputs": [
    {
     "data": {
      "text/plain": [
       "<matplotlib.collections.PathCollection at 0x7fcd55fb5c50>"
      ]
     },
     "execution_count": 9,
     "metadata": {},
     "output_type": "execute_result"
    },
    {
     "data": {
      "image/png": "[encoded data removed]",
      "text/plain": [
       "<matplotlib.figure.Figure at 0x7fcd560822e8>"
      ]
     },
     "metadata": {},
     "output_type": "display_data"
    }
   ],
   "source": [
    "x = wage_dataset[4]\n",
    "y = wage_dataset[10]\n",
    "\n",
    "plt.scatter(x,y,edgecolors='none')"
   ]
  }
 ],
 "metadata": {
  "kernelspec": {
   "display_name": "Python 3",
   "language": "python",
   "name": "python3"
  },
  "language_info": {
   "codemirror_mode": {
    "name": "ipython",
    "version": 3
   },
   "file_extension": ".py",
   "mimetype": "text/x-python",
   "name": "python",
   "nbconvert_exporter": "python",
   "pygments_lexer": "ipython3",
   "version": "3.6.3"
  }
 },
 "nbformat": 4,
 "nbformat_minor": 2
}
