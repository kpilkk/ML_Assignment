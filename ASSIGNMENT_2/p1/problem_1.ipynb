{
 "cells": [
  {
   "cell_type": "markdown",
   "metadata": {},
   "source": [
    "# <center> Problem_1 </center>"
   ]
  },
  {
   "cell_type": "markdown",
   "metadata": {},
   "source": [
    "**Dataset Description**: Wisconsin Diagnostic Breast Cancer(WDBC) dataset from the UCI repository.<br>\n",
    "* Each row in the dataset represents a sample of biopsied tissue. The tissue for each sample is imaged and 10 characteristics of the nuclei of cells present in each image are characterized. <br>\n",
    "* These characteristics are: *Radius, Texture, Perimeter, Area, Smoothness, Compactness, Concavity, Number of concave portions of contour, Symmetry, Fractal dimension.*<br> \n",
    "* Each sample used in the dataset is a feature vector of length 30. \n",
    "        * The first 10 entries in this feature vector are the mean of the characteristics listed above for each image.  \n",
    "        * The second 10 are the standard deviation and \n",
    "        * last 10 are the largest value of each of these characteristics present in each image."
   ]
  },
  {
   "cell_type": "markdown",
   "metadata": {},
   "source": [
    "**Panda** has been imported for reading `csv` file and it reads data in Dataframe object.<br>\n",
    "**numpy** has been imported for linear algebra calculations."
   ]
  },
  {
   "cell_type": "code",
   "execution_count": 1,
   "metadata": {},
   "outputs": [],
   "source": [
    "import pandas as pd\n",
    "import numpy as np"
   ]
  },
  {
   "cell_type": "markdown",
   "metadata": {},
   "source": [
    "Here **check_output** has been used to know about the files present in the `P1_data`."
   ]
  },
  {
   "cell_type": "code",
   "execution_count": 2,
   "metadata": {},
   "outputs": [
    {
     "name": "stdout",
     "output_type": "stream",
     "text": [
      "testX.csv\n",
      "testY.csv\n",
      "trainX.csv\n",
      "trainY.csv\n",
      "\n"
     ]
    }
   ],
   "source": [
    "from subprocess import check_output\n",
    "print(check_output(['ls','/home/kk/Desktop/Assignment_2/P1_data/']).decode('utf8'))"
   ]
  },
  {
   "cell_type": "markdown",
   "metadata": {},
   "source": [
    "**read_csv** is used to read `csv` file and **.head()** is used to display first 5 rows of the Dataframe.<br>\n",
    "As we don't have column names, that's why `header=None` is used, otherwise first row will be interpreted as column names."
   ]
  },
  {
   "cell_type": "code",
   "execution_count": 3,
   "metadata": {},
   "outputs": [
    {
     "data": {
      "text/html": [
       "<div>\n",
       "<style>\n",
       "    .dataframe thead tr:only-child th {\n",
       "        text-align: right;\n",
       "    }\n",
       "\n",
       "    .dataframe thead th {\n",
       "        text-align: left;\n",
       "    }\n",
       "\n",
       "    .dataframe tbody tr th {\n",
       "        vertical-align: top;\n",
       "    }\n",
       "</style>\n",
       "<table border=\"1\" class=\"dataframe\">\n",
       "  <thead>\n",
       "    <tr style=\"text-align: right;\">\n",
       "      <th></th>\n",
       "      <th>0</th>\n",
       "      <th>1</th>\n",
       "      <th>2</th>\n",
       "      <th>3</th>\n",
       "      <th>4</th>\n",
       "      <th>5</th>\n",
       "      <th>6</th>\n",
       "      <th>7</th>\n",
       "      <th>8</th>\n",
       "      <th>9</th>\n",
       "      <th>...</th>\n",
       "      <th>20</th>\n",
       "      <th>21</th>\n",
       "      <th>22</th>\n",
       "      <th>23</th>\n",
       "      <th>24</th>\n",
       "      <th>25</th>\n",
       "      <th>26</th>\n",
       "      <th>27</th>\n",
       "      <th>28</th>\n",
       "      <th>29</th>\n",
       "    </tr>\n",
       "  </thead>\n",
       "  <tbody>\n",
       "    <tr>\n",
       "      <th>0</th>\n",
       "      <td>12.83</td>\n",
       "      <td>22.33</td>\n",
       "      <td>85.26</td>\n",
       "      <td>503.2</td>\n",
       "      <td>0.10880</td>\n",
       "      <td>0.17990</td>\n",
       "      <td>0.16950</td>\n",
       "      <td>0.06861</td>\n",
       "      <td>0.2123</td>\n",
       "      <td>0.07254</td>\n",
       "      <td>...</td>\n",
       "      <td>15.20</td>\n",
       "      <td>30.15</td>\n",
       "      <td>105.30</td>\n",
       "      <td>706.0</td>\n",
       "      <td>0.1777</td>\n",
       "      <td>0.5343</td>\n",
       "      <td>0.6282</td>\n",
       "      <td>0.1977</td>\n",
       "      <td>0.3407</td>\n",
       "      <td>0.12430</td>\n",
       "    </tr>\n",
       "    <tr>\n",
       "      <th>1</th>\n",
       "      <td>12.86</td>\n",
       "      <td>13.32</td>\n",
       "      <td>82.82</td>\n",
       "      <td>504.8</td>\n",
       "      <td>0.11340</td>\n",
       "      <td>0.08834</td>\n",
       "      <td>0.03800</td>\n",
       "      <td>0.03400</td>\n",
       "      <td>0.1543</td>\n",
       "      <td>0.06476</td>\n",
       "      <td>...</td>\n",
       "      <td>14.04</td>\n",
       "      <td>21.08</td>\n",
       "      <td>92.80</td>\n",
       "      <td>599.5</td>\n",
       "      <td>0.1547</td>\n",
       "      <td>0.2231</td>\n",
       "      <td>0.1791</td>\n",
       "      <td>0.1155</td>\n",
       "      <td>0.2382</td>\n",
       "      <td>0.08553</td>\n",
       "    </tr>\n",
       "    <tr>\n",
       "      <th>2</th>\n",
       "      <td>17.93</td>\n",
       "      <td>24.48</td>\n",
       "      <td>115.20</td>\n",
       "      <td>998.9</td>\n",
       "      <td>0.08855</td>\n",
       "      <td>0.07027</td>\n",
       "      <td>0.05699</td>\n",
       "      <td>0.04744</td>\n",
       "      <td>0.1538</td>\n",
       "      <td>0.05510</td>\n",
       "      <td>...</td>\n",
       "      <td>20.92</td>\n",
       "      <td>34.69</td>\n",
       "      <td>135.10</td>\n",
       "      <td>1320.0</td>\n",
       "      <td>0.1315</td>\n",
       "      <td>0.1806</td>\n",
       "      <td>0.2080</td>\n",
       "      <td>0.1136</td>\n",
       "      <td>0.2504</td>\n",
       "      <td>0.07948</td>\n",
       "    </tr>\n",
       "    <tr>\n",
       "      <th>3</th>\n",
       "      <td>19.16</td>\n",
       "      <td>26.60</td>\n",
       "      <td>126.20</td>\n",
       "      <td>1138.0</td>\n",
       "      <td>0.10200</td>\n",
       "      <td>0.14530</td>\n",
       "      <td>0.19210</td>\n",
       "      <td>0.09664</td>\n",
       "      <td>0.1902</td>\n",
       "      <td>0.06220</td>\n",
       "      <td>...</td>\n",
       "      <td>23.72</td>\n",
       "      <td>35.90</td>\n",
       "      <td>159.80</td>\n",
       "      <td>1724.0</td>\n",
       "      <td>0.1782</td>\n",
       "      <td>0.3841</td>\n",
       "      <td>0.5754</td>\n",
       "      <td>0.1872</td>\n",
       "      <td>0.3258</td>\n",
       "      <td>0.09720</td>\n",
       "    </tr>\n",
       "    <tr>\n",
       "      <th>4</th>\n",
       "      <td>13.66</td>\n",
       "      <td>15.15</td>\n",
       "      <td>88.27</td>\n",
       "      <td>580.6</td>\n",
       "      <td>0.08268</td>\n",
       "      <td>0.07548</td>\n",
       "      <td>0.04249</td>\n",
       "      <td>0.02471</td>\n",
       "      <td>0.1792</td>\n",
       "      <td>0.05897</td>\n",
       "      <td>...</td>\n",
       "      <td>14.54</td>\n",
       "      <td>19.64</td>\n",
       "      <td>97.96</td>\n",
       "      <td>657.0</td>\n",
       "      <td>0.1275</td>\n",
       "      <td>0.3104</td>\n",
       "      <td>0.2569</td>\n",
       "      <td>0.1054</td>\n",
       "      <td>0.3387</td>\n",
       "      <td>0.09638</td>\n",
       "    </tr>\n",
       "  </tbody>\n",
       "</table>\n",
       "<p>5 rows × 30 columns</p>\n",
       "</div>"
      ],
      "text/plain": [
       "      0      1       2       3        4        5        6        7       8   \\\n",
       "0  12.83  22.33   85.26   503.2  0.10880  0.17990  0.16950  0.06861  0.2123   \n",
       "1  12.86  13.32   82.82   504.8  0.11340  0.08834  0.03800  0.03400  0.1543   \n",
       "2  17.93  24.48  115.20   998.9  0.08855  0.07027  0.05699  0.04744  0.1538   \n",
       "3  19.16  26.60  126.20  1138.0  0.10200  0.14530  0.19210  0.09664  0.1902   \n",
       "4  13.66  15.15   88.27   580.6  0.08268  0.07548  0.04249  0.02471  0.1792   \n",
       "\n",
       "        9    ...        20     21      22      23      24      25      26  \\\n",
       "0  0.07254   ...     15.20  30.15  105.30   706.0  0.1777  0.5343  0.6282   \n",
       "1  0.06476   ...     14.04  21.08   92.80   599.5  0.1547  0.2231  0.1791   \n",
       "2  0.05510   ...     20.92  34.69  135.10  1320.0  0.1315  0.1806  0.2080   \n",
       "3  0.06220   ...     23.72  35.90  159.80  1724.0  0.1782  0.3841  0.5754   \n",
       "4  0.05897   ...     14.54  19.64   97.96   657.0  0.1275  0.3104  0.2569   \n",
       "\n",
       "       27      28       29  \n",
       "0  0.1977  0.3407  0.12430  \n",
       "1  0.1155  0.2382  0.08553  \n",
       "2  0.1136  0.2504  0.07948  \n",
       "3  0.1872  0.3258  0.09720  \n",
       "4  0.1054  0.3387  0.09638  \n",
       "\n",
       "[5 rows x 30 columns]"
      ]
     },
     "execution_count": 3,
     "metadata": {},
     "output_type": "execute_result"
    }
   ],
   "source": [
    "train = pd.read_csv('P1_data/trainX.csv',header = None)\n",
    "train_label = pd.read_csv('P1_data/trainY.csv',header=None)\n",
    "train.head()"
   ]
  },
  {
   "cell_type": "markdown",
   "metadata": {},
   "source": [
    "**DecisionTreeClassifier** has been imported from **sklearn.tree** to learn *Decision Tree*.<br>\n",
    "**accuracy_score** has been imported from **sklearn.metrics** to know *accuracy* after predicting on test data."
   ]
  },
  {
   "cell_type": "code",
   "execution_count": 4,
   "metadata": {},
   "outputs": [],
   "source": [
    "from sklearn.tree import DecisionTreeClassifier\n",
    "from sklearn.metrics import accuracy_score\n",
    "classifier = DecisionTreeClassifier(criterion='gini', max_depth=None, random_state=50)"
   ]
  },
  {
   "cell_type": "markdown",
   "metadata": {},
   "source": [
    "First decision tree is learned using **.fit** function of **DecisionTreeClassifier** <br>\n",
    "Here **decision_tree** stores the learned Decision Tree and using **export_graphviz** it's been exported to `dot` file."
   ]
  },
  {
   "cell_type": "code",
   "execution_count": 5,
   "metadata": {},
   "outputs": [],
   "source": [
    "from sklearn.tree import export_graphviz\n",
    "decision_tree = classifier.fit(train,train_label)\n",
    "export_graphviz(decision_tree,out_file='tree.dot') \n",
    "#pred_train = classifier.predict(train)"
   ]
  },
  {
   "cell_type": "markdown",
   "metadata": {},
   "source": [
    "If getting error in next code install dependency by running following code in terminal `conda install -c conda-forge libiconv`"
   ]
  },
  {
   "cell_type": "markdown",
   "metadata": {},
   "source": [
    "Here, `dot -Tpng tree.dot -o decision_tree.png` si used to convert **dot** file to `png` image format.<br>\n",
    "**check_output** has been imported from subprocess which executes terminal command.<br>\n",
    "After executing this command **decision_tree.png** image is created which is our learned decision tree."
   ]
  },
  {
   "cell_type": "code",
   "execution_count": 6,
   "metadata": {},
   "outputs": [
    {
     "name": "stdout",
     "output_type": "stream",
     "text": [
      "\n"
     ]
    }
   ],
   "source": [
    "print(check_output(['dot','-Tpng','tree.dot', '-o', 'decision_tree.png']).decode('utf8'))"
   ]
  },
  {
   "cell_type": "markdown",
   "metadata": {},
   "source": [
    "### (a) Plot of decision tree model"
   ]
  },
  {
   "cell_type": "markdown",
   "metadata": {},
   "source": [
    "**%matplotlib inline** is used to plot the tree on the notebook itself.<br>\n",
    "`pyplot` from `matplotlib` has been imported to plot graph.<br>\n",
    "**mpimg** has been imported to read image.<br>\n",
    "`plt.rcParams` is used to set figure size."
   ]
  },
  {
   "cell_type": "code",
   "execution_count": 7,
   "metadata": {
    "scrolled": true
   },
   "outputs": [
    {
     "data": {
      "text/plain": [
       "<matplotlib.image.AxesImage at 0x7faab4d3ee10>"
      ]
     },
     "execution_count": 7,
     "metadata": {},
     "output_type": "execute_result"
    },
    {
     "data": {
      "image/png": "[encoded data removed]",
      "text/plain": [
       "<matplotlib.figure.Figure at 0x7faabfa0d978>"
      ]
     },
     "metadata": {},
     "output_type": "display_data"
    }
   ],
   "source": [
    "%matplotlib inline\n",
    "import matplotlib.pyplot as plt\n",
    "import matplotlib.image as mpimg\n",
    "plt.rcParams[\"figure.figsize\"] = (15,15)\n",
    "img=mpimg.imread('decision_tree.png')\n",
    "plt.imshow(img)"
   ]
  },
  {
   "cell_type": "markdown",
   "metadata": {},
   "source": [
    "### (b) Total number of Nodes in the tree\n",
    "So, the **total number of nodes** we have is **33**"
   ]
  },
  {
   "cell_type": "markdown",
   "metadata": {},
   "source": [
    "**node_count** is used to count the total number of nodes in the tree"
   ]
  },
  {
   "cell_type": "code",
   "execution_count": 8,
   "metadata": {
    "scrolled": true
   },
   "outputs": [
    {
     "data": {
      "text/plain": [
       "33"
      ]
     },
     "execution_count": 8,
     "metadata": {},
     "output_type": "execute_result"
    }
   ],
   "source": [
    "decision_tree.tree_.node_count"
   ]
  },
  {
   "cell_type": "markdown",
   "metadata": {},
   "source": [
    "### (c) Total number of leaf nodes in the tree\n",
    "As we can see **total number of leaf node** is **17**."
   ]
  },
  {
   "cell_type": "code",
   "execution_count": 9,
   "metadata": {},
   "outputs": [
    {
     "name": "stdout",
     "output_type": "stream",
     "text": [
      "Total no of leaf nodes are : 17\n"
     ]
    }
   ],
   "source": [
    "total_nodes=decision_tree.tree_.node_count\n",
    "left_children = decision_tree.tree_.children_left\n",
    "right_children = decision_tree.tree_.children_right\n",
    "\n",
    "features_as_leaves = np.zeros(shape=total_nodes, dtype=bool)\n",
    "\n",
    "stack = [(0, -1)]  # seed is the root node id and its parent depth\n",
    "no_of_leaves=0\n",
    "while len(stack) > 0:\n",
    "    node_id, parent_depth = stack.pop()\n",
    "\n",
    "    # If we have a test node\n",
    "    if (left_children[node_id] != right_children[node_id]):\n",
    "        stack.append((left_children[node_id], parent_depth + 1))\n",
    "        stack.append((right_children[node_id], parent_depth + 1))\n",
    "    else:\n",
    "        features_as_leaves[node_id] = True\n",
    "        no_of_leaves = no_of_leaves + 1\n",
    "print(\"Total no of leaf nodes are : {}\".format(no_of_leaves))"
   ]
  },
  {
   "cell_type": "markdown",
   "metadata": {},
   "source": [
    "test data and its label are read in `test` and `test_label`."
   ]
  },
  {
   "cell_type": "code",
   "execution_count": 10,
   "metadata": {
    "scrolled": true
   },
   "outputs": [
    {
     "data": {
      "text/html": [
       "<div>\n",
       "<style>\n",
       "    .dataframe thead tr:only-child th {\n",
       "        text-align: right;\n",
       "    }\n",
       "\n",
       "    .dataframe thead th {\n",
       "        text-align: left;\n",
       "    }\n",
       "\n",
       "    .dataframe tbody tr th {\n",
       "        vertical-align: top;\n",
       "    }\n",
       "</style>\n",
       "<table border=\"1\" class=\"dataframe\">\n",
       "  <thead>\n",
       "    <tr style=\"text-align: right;\">\n",
       "      <th></th>\n",
       "      <th>0</th>\n",
       "      <th>1</th>\n",
       "      <th>2</th>\n",
       "      <th>3</th>\n",
       "      <th>4</th>\n",
       "      <th>5</th>\n",
       "      <th>6</th>\n",
       "      <th>7</th>\n",
       "      <th>8</th>\n",
       "      <th>9</th>\n",
       "      <th>...</th>\n",
       "      <th>20</th>\n",
       "      <th>21</th>\n",
       "      <th>22</th>\n",
       "      <th>23</th>\n",
       "      <th>24</th>\n",
       "      <th>25</th>\n",
       "      <th>26</th>\n",
       "      <th>27</th>\n",
       "      <th>28</th>\n",
       "      <th>29</th>\n",
       "    </tr>\n",
       "  </thead>\n",
       "  <tbody>\n",
       "    <tr>\n",
       "      <th>0</th>\n",
       "      <td>13.38</td>\n",
       "      <td>30.72</td>\n",
       "      <td>86.34</td>\n",
       "      <td>557.2</td>\n",
       "      <td>0.09245</td>\n",
       "      <td>0.07426</td>\n",
       "      <td>0.02819</td>\n",
       "      <td>0.03264</td>\n",
       "      <td>0.1375</td>\n",
       "      <td>0.06016</td>\n",
       "      <td>...</td>\n",
       "      <td>15.05</td>\n",
       "      <td>41.61</td>\n",
       "      <td>96.69</td>\n",
       "      <td>705.6</td>\n",
       "      <td>0.1172</td>\n",
       "      <td>0.14210</td>\n",
       "      <td>0.07003</td>\n",
       "      <td>0.07763</td>\n",
       "      <td>0.2196</td>\n",
       "      <td>0.07675</td>\n",
       "    </tr>\n",
       "    <tr>\n",
       "      <th>1</th>\n",
       "      <td>12.18</td>\n",
       "      <td>20.52</td>\n",
       "      <td>77.22</td>\n",
       "      <td>458.7</td>\n",
       "      <td>0.08013</td>\n",
       "      <td>0.04038</td>\n",
       "      <td>0.02383</td>\n",
       "      <td>0.01770</td>\n",
       "      <td>0.1739</td>\n",
       "      <td>0.05677</td>\n",
       "      <td>...</td>\n",
       "      <td>13.34</td>\n",
       "      <td>32.84</td>\n",
       "      <td>84.58</td>\n",
       "      <td>547.8</td>\n",
       "      <td>0.1123</td>\n",
       "      <td>0.08862</td>\n",
       "      <td>0.11450</td>\n",
       "      <td>0.07431</td>\n",
       "      <td>0.2694</td>\n",
       "      <td>0.06878</td>\n",
       "    </tr>\n",
       "    <tr>\n",
       "      <th>2</th>\n",
       "      <td>14.80</td>\n",
       "      <td>17.66</td>\n",
       "      <td>95.88</td>\n",
       "      <td>674.8</td>\n",
       "      <td>0.09179</td>\n",
       "      <td>0.08890</td>\n",
       "      <td>0.04069</td>\n",
       "      <td>0.02260</td>\n",
       "      <td>0.1893</td>\n",
       "      <td>0.05886</td>\n",
       "      <td>...</td>\n",
       "      <td>16.43</td>\n",
       "      <td>22.74</td>\n",
       "      <td>105.90</td>\n",
       "      <td>829.5</td>\n",
       "      <td>0.1226</td>\n",
       "      <td>0.18810</td>\n",
       "      <td>0.20600</td>\n",
       "      <td>0.08308</td>\n",
       "      <td>0.3600</td>\n",
       "      <td>0.07285</td>\n",
       "    </tr>\n",
       "    <tr>\n",
       "      <th>3</th>\n",
       "      <td>14.64</td>\n",
       "      <td>15.24</td>\n",
       "      <td>95.77</td>\n",
       "      <td>651.9</td>\n",
       "      <td>0.11320</td>\n",
       "      <td>0.13390</td>\n",
       "      <td>0.09966</td>\n",
       "      <td>0.07064</td>\n",
       "      <td>0.2116</td>\n",
       "      <td>0.06346</td>\n",
       "      <td>...</td>\n",
       "      <td>16.34</td>\n",
       "      <td>18.24</td>\n",
       "      <td>109.40</td>\n",
       "      <td>803.6</td>\n",
       "      <td>0.1277</td>\n",
       "      <td>0.30890</td>\n",
       "      <td>0.26040</td>\n",
       "      <td>0.13970</td>\n",
       "      <td>0.3151</td>\n",
       "      <td>0.08473</td>\n",
       "    </tr>\n",
       "    <tr>\n",
       "      <th>4</th>\n",
       "      <td>14.60</td>\n",
       "      <td>23.29</td>\n",
       "      <td>93.97</td>\n",
       "      <td>664.7</td>\n",
       "      <td>0.08682</td>\n",
       "      <td>0.06636</td>\n",
       "      <td>0.08390</td>\n",
       "      <td>0.05271</td>\n",
       "      <td>0.1627</td>\n",
       "      <td>0.05416</td>\n",
       "      <td>...</td>\n",
       "      <td>15.79</td>\n",
       "      <td>31.71</td>\n",
       "      <td>102.20</td>\n",
       "      <td>758.2</td>\n",
       "      <td>0.1312</td>\n",
       "      <td>0.15810</td>\n",
       "      <td>0.26750</td>\n",
       "      <td>0.13590</td>\n",
       "      <td>0.2477</td>\n",
       "      <td>0.06836</td>\n",
       "    </tr>\n",
       "  </tbody>\n",
       "</table>\n",
       "<p>5 rows × 30 columns</p>\n",
       "</div>"
      ],
      "text/plain": [
       "      0      1      2      3        4        5        6        7       8   \\\n",
       "0  13.38  30.72  86.34  557.2  0.09245  0.07426  0.02819  0.03264  0.1375   \n",
       "1  12.18  20.52  77.22  458.7  0.08013  0.04038  0.02383  0.01770  0.1739   \n",
       "2  14.80  17.66  95.88  674.8  0.09179  0.08890  0.04069  0.02260  0.1893   \n",
       "3  14.64  15.24  95.77  651.9  0.11320  0.13390  0.09966  0.07064  0.2116   \n",
       "4  14.60  23.29  93.97  664.7  0.08682  0.06636  0.08390  0.05271  0.1627   \n",
       "\n",
       "        9    ...        20     21      22     23      24       25       26  \\\n",
       "0  0.06016   ...     15.05  41.61   96.69  705.6  0.1172  0.14210  0.07003   \n",
       "1  0.05677   ...     13.34  32.84   84.58  547.8  0.1123  0.08862  0.11450   \n",
       "2  0.05886   ...     16.43  22.74  105.90  829.5  0.1226  0.18810  0.20600   \n",
       "3  0.06346   ...     16.34  18.24  109.40  803.6  0.1277  0.30890  0.26040   \n",
       "4  0.05416   ...     15.79  31.71  102.20  758.2  0.1312  0.15810  0.26750   \n",
       "\n",
       "        27      28       29  \n",
       "0  0.07763  0.2196  0.07675  \n",
       "1  0.07431  0.2694  0.06878  \n",
       "2  0.08308  0.3600  0.07285  \n",
       "3  0.13970  0.3151  0.08473  \n",
       "4  0.13590  0.2477  0.06836  \n",
       "\n",
       "[5 rows x 30 columns]"
      ]
     },
     "execution_count": 10,
     "metadata": {},
     "output_type": "execute_result"
    }
   ],
   "source": [
    "test = pd.read_csv('P1_data/testX.csv',header = None)\n",
    "test_label = pd.read_csv('P1_data/testY.csv',header=None)\n",
    "test.head()"
   ]
  },
  {
   "cell_type": "markdown",
   "metadata": {},
   "source": [
    "**acuracy_test** is a function to determine the accuracy taking n as the input which is the number of training examples corresponding to 10-100%.<br>\n",
    "In `pandas` **iloc** or **loc** is used to access rows and columns."
   ]
  },
  {
   "cell_type": "code",
   "execution_count": 11,
   "metadata": {},
   "outputs": [],
   "source": [
    "def accuracy_test(n):\n",
    "    classifier.fit(train.iloc[0:n],train_label[0:n])\n",
    "    test_pred = classifier.predict(test)\n",
    "    accuracy=accuracy_score(test_label,test_pred)*100\n",
    "    return accuracy"
   ]
  },
  {
   "cell_type": "markdown",
   "metadata": {},
   "source": [
    "**(Q)** (ii) Train your binary decision tree with increasing sizes of training set, say 10%, 20%, ..., 100%.\n",
    "and test the trees with the test set. Make a plot to show how training and test accuracies vary with\n",
    "number of training samples."
   ]
  },
  {
   "cell_type": "markdown",
   "metadata": {},
   "source": [
    "### Accuaracy on test_data considering 10-100% of train data."
   ]
  },
  {
   "cell_type": "code",
   "execution_count": 12,
   "metadata": {},
   "outputs": [
    {
     "name": "stdout",
     "output_type": "stream",
     "text": [
      "Considerin train_set of 10%, Accuracy is 82.45614035087719\n",
      "Considerin train_set of 20%, Accuracy is 80.7017543859649\n",
      "Considerin train_set of 30%, Accuracy is 89.47368421052632\n",
      "Considerin train_set of 40%, Accuracy is 87.71929824561403\n",
      "Considerin train_set of 50%, Accuracy is 89.47368421052632\n",
      "Considerin train_set of 60%, Accuracy is 85.96491228070175\n",
      "Considerin train_set of 70%, Accuracy is 87.71929824561403\n",
      "Considerin train_set of 80%, Accuracy is 89.47368421052632\n",
      "Considerin train_set of 90%, Accuracy is 82.45614035087719\n",
      "Considerin train_set of 100%, Accuracy is 85.96491228070175\n"
     ]
    }
   ],
   "source": [
    "for i in range(1,11,1):\n",
    "    print('Considerin train_set of {}%, Accuracy is {}'.format(i*10,format(accuracy_test(int(len(train)*i/10)))))"
   ]
  },
  {
   "cell_type": "markdown",
   "metadata": {},
   "source": [
    "**Accuracy on traing over all training data.**"
   ]
  },
  {
   "cell_type": "code",
   "execution_count": 13,
   "metadata": {},
   "outputs": [
    {
     "data": {
      "text/plain": [
       "85.964912280701753"
      ]
     },
     "execution_count": 13,
     "metadata": {},
     "output_type": "execute_result"
    }
   ],
   "source": [
    "pred_label = classifier.predict(test)\n",
    "accuracy_score(test_label,pred_label)*100"
   ]
  },
  {
   "cell_type": "markdown",
   "metadata": {},
   "source": [
    "**test_accuracy** and **percentage_of_train** are lists which stores accuracies corresponding to respective train percentage of train data."
   ]
  },
  {
   "cell_type": "code",
   "execution_count": 14,
   "metadata": {},
   "outputs": [],
   "source": [
    "test_accuracy = []\n",
    "percentage_of_train = []\n",
    "for i in range(10,110,10):\n",
    "    accu = accuracy_test(int(len(train)*i/100))\n",
    "    test_accuracy.append(accu)\n",
    "    percentage_of_train.append(i)"
   ]
  },
  {
   "cell_type": "code",
   "execution_count": 15,
   "metadata": {},
   "outputs": [
    {
     "data": {
      "text/plain": [
       "[82.456140350877192,\n",
       " 80.701754385964904,\n",
       " 89.473684210526315,\n",
       " 87.719298245614027,\n",
       " 89.473684210526315,\n",
       " 85.964912280701753,\n",
       " 87.719298245614027,\n",
       " 89.473684210526315,\n",
       " 82.456140350877192,\n",
       " 85.964912280701753]"
      ]
     },
     "execution_count": 15,
     "metadata": {},
     "output_type": "execute_result"
    }
   ],
   "source": [
    "test_accuracy"
   ]
  },
  {
   "cell_type": "markdown",
   "metadata": {},
   "source": [
    "**Plot to show how training and test accuracies vary with number of training samples.** "
   ]
  },
  {
   "cell_type": "code",
   "execution_count": 16,
   "metadata": {},
   "outputs": [
    {
     "data": {
      "text/plain": [
       "[<matplotlib.lines.Line2D at 0x7faab3b82ac8>]"
      ]
     },
     "execution_count": 16,
     "metadata": {},
     "output_type": "execute_result"
    },
    {
     "data": {
      "image/png": "[encoded data removed]",
      "text/plain": [
       "<matplotlib.figure.Figure at 0x7faaca5e9a90>"
      ]
     },
     "metadata": {},
     "output_type": "display_data"
    }
   ],
   "source": [
    "plt.rcParams[\"figure.figsize\"] = (5,5)\n",
    "plt.plot(percentage_of_train,test_accuracy)"
   ]
  },
  {
   "cell_type": "markdown",
   "metadata": {},
   "source": [
    "**Confusion Matrix**"
   ]
  },
  {
   "cell_type": "code",
   "execution_count": 17,
   "metadata": {},
   "outputs": [
    {
     "data": {
      "text/plain": [
       "array([[28,  4],\n",
       "       [ 4, 21]])"
      ]
     },
     "execution_count": 17,
     "metadata": {},
     "output_type": "execute_result"
    }
   ],
   "source": [
    "from sklearn.metrics import confusion_matrix\n",
    "confusion_matrix(test_label,pred_label)"
   ]
  },
  {
   "cell_type": "markdown",
   "metadata": {},
   "source": [
    "**Misclassification rate of 1st class.**"
   ]
  },
  {
   "cell_type": "code",
   "execution_count": 18,
   "metadata": {},
   "outputs": [
    {
     "data": {
      "text/plain": [
       "0.125"
      ]
     },
     "execution_count": 18,
     "metadata": {},
     "output_type": "execute_result"
    }
   ],
   "source": [
    "4/(28+4)"
   ]
  },
  {
   "cell_type": "markdown",
   "metadata": {},
   "source": [
    "**Misclassification rate of 2nd class.**"
   ]
  },
  {
   "cell_type": "code",
   "execution_count": 19,
   "metadata": {},
   "outputs": [
    {
     "data": {
      "text/plain": [
       "0.16"
      ]
     },
     "execution_count": 19,
     "metadata": {},
     "output_type": "execute_result"
    }
   ],
   "source": [
    "4/(21+4)"
   ]
  }
 ],
 "metadata": {
  "kernelspec": {
   "display_name": "Python 3",
   "language": "python",
   "name": "python3"
  },
  "language_info": {
   "codemirror_mode": {
    "name": "ipython",
    "version": 3
   },
   "file_extension": ".py",
   "mimetype": "text/x-python",
   "name": "python",
   "nbconvert_exporter": "python",
   "pygments_lexer": "ipython3",
   "version": "3.6.3"
  }
 },
 "nbformat": 4,
 "nbformat_minor": 2
}
